{
  "cells": [
    {
      "cell_type": "markdown",
      "metadata": {
        "id": "view-in-github",
        "colab_type": "text"
      },
      "source": [
        "<a href=\"https://colab.research.google.com/github/mohammad-rahbari/federated-learning_visual-classification/blob/main/notebooks/Federated_learning_server_v2.ipynb\" target=\"_parent\"><img src=\"https://colab.research.google.com/assets/colab-badge.svg\" alt=\"Open In Colab\"/></a>"
      ]
    },
    {
      "cell_type": "markdown",
      "source": [
        "# Import libraries and data"
      ],
      "metadata": {
        "id": "QH6umXWdxe2I"
      }
    },
    {
      "cell_type": "code",
      "execution_count": 5,
      "metadata": {
        "id": "wpogmY-iMNWj",
        "colab": {
          "base_uri": "https://localhost:8080/"
        },
        "outputId": "7be52462-ff03-400d-8141-3670a7ede4a0"
      },
      "outputs": [
        {
          "output_type": "stream",
          "name": "stdout",
          "text": [
            "Drive already mounted at /content/drive; to attempt to forcibly remount, call drive.mount(\"/content/drive\", force_remount=True).\n"
          ]
        }
      ],
      "source": [
        "from google.colab import drive\n",
        "drive.mount('/content/drive')\n"
      ]
    },
    {
      "cell_type": "code",
      "execution_count": 6,
      "metadata": {
        "id": "ve754mVLEmoO"
      },
      "outputs": [],
      "source": [
        "import torch\n",
        "import torchvision\n",
        "\n",
        "import torchvision.transforms as transforms\n",
        "from torch.utils.data import DataLoader\n",
        "import numpy as np\n",
        "from torchvision.datasets import CIFAR100\n",
        "from torch.utils.data import Subset\n",
        "import numpy as np\n",
        "import copy\n",
        "import random\n",
        "import torch\n",
        "import pandas as pd"
      ]
    },
    {
      "cell_type": "code",
      "execution_count": 7,
      "metadata": {
        "id": "F83IfINuLwqq",
        "cellView": "form",
        "colab": {
          "base_uri": "https://localhost:8080/"
        },
        "outputId": "f4d7e86f-081f-47b8-b5c3-3d8fd2a78bf8"
      },
      "outputs": [
        {
          "output_type": "stream",
          "name": "stderr",
          "text": [
            "100%|██████████| 169M/169M [00:03<00:00, 49.6MB/s]\n"
          ]
        }
      ],
      "source": [
        "#@title In this block we import the test set of CIFAR100 to evaluate the global model\n",
        "transform = transforms.Compose([\n",
        "    transforms.Resize(256),\n",
        "    transforms.RandomCrop(224),\n",
        "    transforms.ToTensor(),\n",
        "    transforms.Normalize(mean=(0.485, 0.456, 0.406),\n",
        "                         std=(0.229, 0.224, 0.225))\n",
        "])\n",
        "test_dataset = torchvision.datasets.CIFAR100(root='./data', train=False,\n",
        "                                       download=True, transform=transform)\n",
        "test_loader  = DataLoader(test_dataset,  batch_size=64, shuffle=False, num_workers=2)"
      ]
    },
    {
      "cell_type": "markdown",
      "source": [
        "# Collecting data of models we want to aggregate"
      ],
      "metadata": {
        "id": "Illl7SphzfXZ"
      }
    },
    {
      "cell_type": "code",
      "execution_count": 8,
      "metadata": {
        "id": "lQB4dFXLUIp7",
        "cellView": "form"
      },
      "outputs": [],
      "source": [
        "initial_model_name = \"fa4e78ad-aca5-491e-8d8c-9e366f73a708\" #@param{\"type\":\"string\"}\n"
      ]
    },
    {
      "cell_type": "code",
      "execution_count": 9,
      "metadata": {
        "id": "AhE739SgMX_4",
        "cellView": "form"
      },
      "outputs": [],
      "source": [
        "#@title Client's log file has been loaded in this block so we can use it in next steps\n",
        "clients_data = pd.read_csv(\"/content/drive/MyDrive/MLDL_FederatedLearning/csv/client_log.csv\")\n",
        "# clients_data.head()"
      ]
    },
    {
      "cell_type": "code",
      "execution_count": 10,
      "metadata": {
        "colab": {
          "base_uri": "https://localhost:8080/"
        },
        "id": "lhoHGiZVUDgo",
        "outputId": "c38b0ea6-6da0-423c-fc3c-40cc6b67c6ee",
        "cellView": "form"
      },
      "outputs": [
        {
          "output_type": "stream",
          "name": "stdout",
          "text": [
            "Number of all trained clients: 612\n",
            "Number of clients after filtering: 12\n",
            "Contributors: ['27de6708-9c4b-4437-9686-ddf6c142dcd9', '9aa489d0-e863-4f3e-b59c-23a63e87f7cf', '4f1f1327-618d-4033-98c2-0ec6ae9e45b9', 'f2ae8f84-e3a7-48f6-8b1a-d6fa41963462', 'aeb02e68-7bc7-473e-b8fc-54fb7fd0541b', 'a075266e-b771-4e71-a900-df6584938565', 'af443160-bb38-4a36-9304-f1c5a10d2aa1', '1f36c48b-d05d-4e2b-a8d8-f91b3edc9c4d', '805819c8-56c6-4b1b-9227-c95ac99b7c99', 'c4ffe955-a431-477a-8ab0-e80f1f73f74f', '7645e3f4-3295-404e-8675-efb098baa197', '32a612ba-d8d2-4508-be26-ae9f0defd752']\n"
          ]
        }
      ],
      "source": [
        "#@title gets the clients\n",
        "filter =  clients_data['initial_model_name']== initial_model_name\n",
        "filtered_clients_data = clients_data[filter] # Using filter to collect clients with specified initial model\n",
        "params = filtered_clients_data[['backbone',\n",
        "                                    'num_of_clients',\n",
        "                                    'splitting_method',\n",
        "                                    'size_of_dataset']]\n",
        "params = dict(params.iloc[0])\n",
        "print(\"Number of all trained clients:\", len(clients_data))\n",
        "print(\"Number of clients after filtering:\", len(filtered_clients_data))\n",
        "contributors = [] # contributors is being used to store the name of models which contributes in aggregation\n",
        "for i  in filtered_clients_data['model_name'].values:\n",
        "  contributors.append(i)\n",
        "print(\"Contributors:\", contributors)\n",
        "# filtered_clients_data.head()"
      ]
    },
    {
      "cell_type": "code",
      "execution_count": 11,
      "metadata": {
        "id": "7j78bLPfZmAU",
        "cellView": "form"
      },
      "outputs": [],
      "source": [
        "#@title Dino Model\n",
        "import torch\n",
        "import torch.nn as nn\n",
        "\n",
        "class DinoClassifier(nn.Module):\n",
        "  def __init__(self, backbone, num_classes:int=100, device=None):\n",
        "    super(DinoClassifier, self).__init__()\n",
        "    self.backbone = torch.hub.load('facebookresearch/dino:main', backbone)\n",
        "\n",
        "\n",
        "    #We need to freaze thhe parameters of bakbone first so we can train only on the head layer(output layer)\n",
        "    for param in self.backbone.parameters():\n",
        "      param.requires_grad = False\n",
        "\n",
        "    #determine the Device\n",
        "    if device is None:\n",
        "      device = torch.device(\"cuda\" if torch.cuda.is_available() else \"cpu\")\n",
        "\n",
        "    self.backbone.to(device)\n",
        "\n",
        "    #To detect the output feature dimontion of backbone we run  Dummy forward pass\n",
        "    with torch.no_grad():\n",
        "\n",
        "      dummy_input = torch.randn(1,3,224,224).to(device)\n",
        "      dummy_out = self.backbone(dummy_input)\n",
        "\n",
        "\n",
        "      if isinstance(dummy_out, tuple):\n",
        "        dummy_out = dummy_out[0]\n",
        "      elif isinstance(dummy_out, dict):\n",
        "        dummy_out = dummy_out.get(\"x_norm_clstoken\", next(iter(dummy_out.values())))\n",
        "\n",
        "      #If the output is 3D (B, T, D), we assume first token is the [CLS] token.\n",
        "      if dummy_out.dim() == 3:\n",
        "        dummy_feature = dummy_out[:,0]\n",
        "      else:\n",
        "        dummy_feature = dummy_out\n",
        "      feature_dim = dummy_feature.shape[1]\n",
        "      print(\"Detected feature dimontion:\", feature_dim)\n",
        "\n",
        "\n",
        "      #Hidden Layer\n",
        "      self.hidden = nn.Sequential(\n",
        "          nn.Linear(feature_dim, 128),\n",
        "          nn.ReLU()\n",
        "      )\n",
        "\n",
        "\n",
        "      #Difineing the classification Head\n",
        "      self.head = nn.Linear(128, num_classes)\n",
        "\n",
        "      #Ensure the head is trainable.\n",
        "      for param in self.hidden.parameters():\n",
        "        param.requires_grad = True\n",
        "      for param in self.head.parameters():\n",
        "        param.requires_grad = True\n",
        "\n",
        "  def forward(self,x):\n",
        "\n",
        "    #pass the input through the backbone\n",
        "    features = self.backbone(x)\n",
        "\n",
        "    if isinstance(features, tuple):\n",
        "      features = features[0]\n",
        "    elif isinstance(features, dict):\n",
        "      features = features.get(\"x_norm_clstoken\", next(iter(features.values())))\n",
        "\n",
        "\n",
        "    # If featers are retuened as (B, T, D), use the first token\n",
        "    if features.dim() == 3:\n",
        "      features = features[:,0]\n",
        "\n",
        "\n",
        "    hidden_out  = self.hidden(features)\n",
        "\n",
        "    logits = self.head(hidden_out)\n",
        "\n",
        "    return logits\n"
      ]
    },
    {
      "cell_type": "code",
      "execution_count": 12,
      "metadata": {
        "id": "UDoFGHyOXo-K"
      },
      "outputs": [],
      "source": [
        "# @title `get_model` function retrieves and loads the models of filtered clients\n",
        "def get_model(paths,criterion, backbone):\n",
        "  device = torch.device(\"cuda\" if torch.cuda.is_available() else \"cpu\")\n",
        "  model = DinoClassifier(backbone=backbone, num_classes=100, device=device) # Loading an initial custom dino model\n",
        "  for index in range(len(paths)):\n",
        "    state_dict = torch.load(paths.iloc[index]) # load state dict regarding the client number 'index'\n",
        "    model.head.load_state_dict(state_dict[\"head\"]) # set the state dict based on client\n",
        "    model.hidden.load_state_dict(state_dict[\"hidden\"]) # set the state dict based on client\n",
        "\n",
        "    model.to(device)\n",
        "    yield (model,criterion.iloc[index]) # this command throws model one at the time so less time and resouces will be used\n",
        "\n"
      ]
    },
    {
      "cell_type": "markdown",
      "source": [
        "# Aggregation functions\n",
        "\n",
        "Implemented algorithm:\n",
        "\n",
        "*   FedAvg\n",
        "*   FedAvgM\n",
        "*   EMA\n",
        "*   FedQ\n",
        "\n"
      ],
      "metadata": {
        "id": "bqUWwoTVBcgG"
      }
    },
    {
      "cell_type": "code",
      "source": [
        "#@title <h2>FebAvg</h2>\n",
        "def feb_avg(df):\n",
        "  total_samples = df[\"client_train_size\"].sum() # Calculate the total number of samples of clients wich had contributed\n",
        "  global_weights = {\"head\":None, \"hidden\":None} # This variable stores the weights we want to modify\n",
        "\n",
        "  models = get_model(df[\"path\"],df[\"client_train_size\"], df.iloc[0][\"backbone\"])\n",
        "  with torch.no_grad():\n",
        "\n",
        "    for model, sample_size in models:\n",
        "      if global_weights[\"head\"] is None:\n",
        "        global_weights[\"head\"] = copy.deepcopy(model.head.state_dict())\n",
        "        global_weights[\"hidden\"] = copy.deepcopy(model.hidden.state_dict())\n",
        "        global_model = copy.deepcopy(model)\n",
        "        for k in global_weights[\"head\"].keys():\n",
        "          global_weights[\"head\"][k].zero_() # This command sets the tensor to zero\n",
        "        for k in global_weights[\"hidden\"].keys():\n",
        "          global_weights[\"hidden\"][k].zero_() # This command sets the tensor to zero\n",
        "\n",
        "      for k in global_weights[\"head\"].keys():\n",
        "        global_weights[\"head\"][k] += model.head.state_dict()[k] * (sample_size / total_samples) # Each weight will be assgin by average of all clients weights\n",
        "      for k in global_weights[\"hidden\"].keys():\n",
        "        global_weights[\"hidden\"][k] += model.hidden.state_dict()[k] * (sample_size / total_samples) # Each weight will be assgin by average of all clients weights\n",
        "    global_model.head.load_state_dict(global_weights[\"head\"]) # A model with modified head will be assignd\n",
        "    global_model.hidden.load_state_dict(global_weights[\"hidden\"]) # A model with modified hidden will be assignd\n",
        "  return global_model\n",
        "\n"
      ],
      "metadata": {
        "id": "1wDV2Y3-OKlS",
        "cellView": "form"
      },
      "execution_count": 13,
      "outputs": []
    },
    {
      "cell_type": "code",
      "source": [
        "#@title FebAvgM\n",
        "def feb_avg_m(df, momentum_coefficient=0.9, momentum_vector_path= None):\n",
        "\n",
        "  total_samples = df[\"client_train_size\"].sum() # Calculate the total number of samples of clients wich had contributed\n",
        "  delta = {\"head\":None, \"hidden\":None} # `delta` is variable that keep the average of clients\n",
        "  global_weights = {\"head\":None, \"hidden\":None} # This variable stores the weights we want to modify\n",
        "\n",
        "  models = get_model(df[\"path\"],df[\"client_train_size\"], df.iloc[0][\"backbone\"])\n",
        "  with torch.no_grad():\n",
        "\n",
        "    for model, sample_size in models:\n",
        "      if delta['head'] is None:\n",
        "\n",
        "        global_model = copy.deepcopy(model)\n",
        "        global_weights[\"head\"] = copy.deepcopy(model.head.state_dict())\n",
        "        global_weights[\"hidden\"] = copy.deepcopy(model.hidden.state_dict())\n",
        "        delta[\"head\"] = { k: torch.zeros_like(v) for k, v in global_weights[\"head\"].items() } # A dict with structure of the model that we want to modify will be generated\n",
        "        delta[\"hidden\"] = { k: torch.zeros_like(v) for k, v in global_weights[\"hidden\"].items() } # A dict with structure of the model that we want to modify will be generated\n",
        "\n",
        "\n",
        "      client_head = model.head.state_dict()\n",
        "      for k in delta['head'].keys():\n",
        "        delta['head'][k] += (client_head[k] - global_weights[\"head\"][k]) * (sample_size / total_samples) # Each weight will be assgin by average of all clients weights\n",
        "\n",
        "      client_hidden = model.hidden.state_dict()\n",
        "      for k in delta['hidden'].keys():\n",
        "        delta['hidden'][k] += (client_hidden[k] - global_weights[\"hidden\"][k]) * (sample_size / total_samples) # Each weight\n",
        "\n",
        "    # In this section we calculate the momentum_vector\n",
        "\n",
        "\n",
        "    if momentum_vector_path is None:\n",
        "      momentum_vector = {\n",
        "          \"head\": {k: delta[\"head\"][k].clone() for k in delta[\"head\"]},\n",
        "          \"hidden\": {k: delta[\"hidden\"][k].clone() for k in delta[\"hidden\"]}\n",
        "      }\n",
        "    else:\n",
        "      momentum_vector = torch.load(momentum_vector_path) #In rounds > 1 momentum vector is requerd to be loaded from drive\n",
        "      for k in delta['head'].keys():\n",
        "        momentum_vector['head'][k] = momentum_coefficient * momentum_vector['head'][k]  + delta['head'][k]  # Using the the formula of FebAvgM we calculate the momentum vector\n",
        "      for k in delta['hidden'].keys():\n",
        "        momentum_vector['hidden'][k] = momentum_coefficient * momentum_vector['hidden'][k]  + delta['hidden'][k]  # Using the the formula of FebAvgM we calculate the momentum vector\n",
        "\n",
        "\n",
        "\n",
        "\n",
        "\n",
        "\n",
        "    global_head = copy.deepcopy(global_model.head.state_dict())\n",
        "    for k in momentum_vector['head'].keys():\n",
        "      global_head[k] =global_head[k] + momentum_vector['head'][k] #After adding momentum vector the last global model we use clamp function we insure to keep momentum vector in boundary\n",
        "    global_hidden = copy.deepcopy(global_model.hidden.state_dict())\n",
        "    for k in momentum_vector['hidden'].keys():\n",
        "      global_hidden[k] = global_hidden[k] + momentum_vector['hidden'][k]#After adding momentum vector the last global model we use clamp function\n",
        "\n",
        "\n",
        "    global_model.head.load_state_dict(global_head)\n",
        "    global_model.hidden.load_state_dict(global_hidden)\n",
        "\n",
        "\n",
        "  return global_model, momentum_vector # We return momentum_vector to save it and use for next aggregation steps\n",
        "\n"
      ],
      "metadata": {
        "id": "sNxSyQmpOMFJ",
        "cellView": "form"
      },
      "execution_count": 14,
      "outputs": []
    },
    {
      "cell_type": "code",
      "source": [
        "#@title EMA\n",
        "def EMA(df, decay=0.9, momentum_vector_path= None):\n",
        "\n",
        "  total_samples = df[\"client_train_size\"].sum() # Calculate the total number of samples of clients wich had contributed\n",
        "  delta = {\"head\":None, \"hidden\":None} # `delta` is variable that keep the average of clients\n",
        "  global_weights = {\"head\":None, \"hidden\":None} # This variable stores the weights we want to modify\n",
        "\n",
        "  models = get_model(df[\"path\"],df[\"client_train_size\"], df.iloc[0][\"backbone\"])\n",
        "  with torch.no_grad():\n",
        "\n",
        "    for model, sample_size in models:\n",
        "      if delta['head'] is None:\n",
        "\n",
        "        global_model = copy.deepcopy(model)\n",
        "        global_weights[\"head\"] = copy.deepcopy(model.head.state_dict())\n",
        "        global_weights[\"hidden\"] = copy.deepcopy(model.hidden.state_dict())\n",
        "        delta[\"head\"] = { k: torch.zeros_like(v) for k, v in global_weights[\"head\"].items() } # A dict with structure of the model that we want to modify will be generated\n",
        "        delta[\"hidden\"] = { k: torch.zeros_like(v) for k, v in global_weights[\"hidden\"].items() } # A dict with structure of the model that we want to modify will be generated\n",
        "\n",
        "\n",
        "      client_head = model.head.state_dict()\n",
        "      for k in delta['head'].keys():\n",
        "        delta['head'][k] += (client_head[k] - global_weights[\"head\"][k]) * (sample_size / total_samples) # Each weight will be assgin by average of all clients weights\n",
        "\n",
        "      client_hidden = model.hidden.state_dict()\n",
        "      for k in delta['hidden'].keys():\n",
        "        delta['hidden'][k] += (client_hidden[k] - global_weights[\"hidden\"][k]) * (sample_size / total_samples) # Each weight\n",
        "\n",
        "    # In this section we calculate the momentum_vector\n",
        "\n",
        "\n",
        "    if momentum_vector_path is None:\n",
        "      momentum_vector = {\n",
        "          \"head\": {k: delta[\"head\"][k].clone() for k in delta[\"head\"]},\n",
        "          \"hidden\": {k: delta[\"hidden\"][k].clone() for k in delta[\"hidden\"]}\n",
        "      }\n",
        "    else:\n",
        "      momentum_vector = torch.load(momentum_vector_path) #In rounds > 1 momentum vector is requerd to be loaded from drive\n",
        "      for k in delta['head'].keys():\n",
        "\n",
        "        momentum_vector['head'][k] = decay * momentum_vector['head'][k]  + (1- decay) *  delta['head'][k]  # Using the the formula of EMA we calculate the momentum vector\n",
        "      for k in delta['hidden'].keys():\n",
        "        momentum_vector['hidden'][k] = decay * momentum_vector['hidden'][k]  + (1- decay) *  delta['hidden'][k]  # Using the the formula of FebAvgM we calculate the momentum vector\n",
        "\n",
        "\n",
        "\n",
        "\n",
        "\n",
        "\n",
        "    global_head = copy.deepcopy(global_model.head.state_dict())\n",
        "    for k in momentum_vector['head'].keys():\n",
        "      global_head[k] =global_head[k] + momentum_vector['head'][k] #After adding momentum vector the last global model we use clamp function we insure to keep momentum vector in boundary\n",
        "    global_hidden = copy.deepcopy(global_model.hidden.state_dict())\n",
        "    for k in momentum_vector['hidden'].keys():\n",
        "      global_hidden[k] = global_hidden[k] + momentum_vector['hidden'][k]#After adding momentum vector the last global model we use clamp function\n",
        "\n",
        "\n",
        "    global_model.head.load_state_dict(global_head)\n",
        "    global_model.hidden.load_state_dict(global_hidden)\n",
        "\n",
        "\n",
        "  return global_model, momentum_vector # We return momentum_vector to save it and use for next aggregation steps\n",
        "\n",
        "\n"
      ],
      "metadata": {
        "id": "KyQ9s1udbhJI",
        "cellView": "form"
      },
      "execution_count": 15,
      "outputs": []
    },
    {
      "cell_type": "code",
      "source": [
        "#@title FedQ\n",
        "def minmax(series):\n",
        "    min_val, max_val = series.min(), series.max()\n",
        "    if min_val == max_val:\n",
        "        return pd.Series([1.0] * len(series), index=series.index)\n",
        "    return (series - min_val) / (max_val - min_val)\n",
        "\n",
        "def FedQ(df, decay=0.9, momentum_vector_path= None):\n",
        "  alpha = 0.5\n",
        "  df[\"sample_size_scaled\"] = minmax(df[\"client_train_size\"])\n",
        "  df[\"acc_scaled\"] = minmax(df[\"accuracy\"])\n",
        "\n",
        "  df[\"avg_criterion\"] = alpha * df[\"acc_scaled\"] + (1 - alpha) * df[\"sample_size_scaled\"]\n",
        "\n",
        "  total_sum = df[\"avg_criterion\"].sum()\n",
        "\n",
        "  delta = {\"head\":None, \"hidden\":None} # `delta` is variable that keep the average of clients\n",
        "  global_weights = {\"head\":None, \"hidden\":None} # This variable stores the weights we want to modify\n",
        "\n",
        "  models = get_model(df[\"path\"], df[\"avg_criterion\"], df.iloc[0][\"backbone\"])\n",
        "  with torch.no_grad():\n",
        "\n",
        "    for model, avg_criterion in models:\n",
        "      if delta['head'] is None:\n",
        "\n",
        "        global_model = copy.deepcopy(model)\n",
        "        global_weights[\"head\"] = copy.deepcopy(model.head.state_dict())\n",
        "        global_weights[\"hidden\"] = copy.deepcopy(model.hidden.state_dict())\n",
        "        delta[\"head\"] = { k: torch.zeros_like(v) for k, v in global_weights[\"head\"].items() } # A dict with structure of the model that we want to modify will be generated\n",
        "        delta[\"hidden\"] = { k: torch.zeros_like(v) for k, v in global_weights[\"hidden\"].items() } # A dict with structure of the model that we want to modify will be generated\n",
        "\n",
        "\n",
        "      client_head = model.head.state_dict()\n",
        "      for k in delta['head'].keys():\n",
        "        delta['head'][k] += (client_head[k] - global_weights[\"head\"][k]) * (avg_criterion / total_sum) # Each weight will be assgin by average of all clients weights\n",
        "\n",
        "      client_hidden = model.hidden.state_dict()\n",
        "      for k in delta['hidden'].keys():\n",
        "        delta['hidden'][k] += (client_hidden[k] - global_weights[\"hidden\"][k]) * (avg_criterion / total_sum) # Each weight\n",
        "\n",
        "    # In this section we calculate the momentum_vector\n",
        "\n",
        "\n",
        "    if momentum_vector_path is None:\n",
        "      momentum_vector = {\n",
        "          \"head\": {k: delta[\"head\"][k].clone() for k in delta[\"head\"]},\n",
        "          \"hidden\": {k: delta[\"hidden\"][k].clone() for k in delta[\"hidden\"]}\n",
        "      }\n",
        "    else:\n",
        "      momentum_vector = torch.load(momentum_vector_path) #In rounds > 1 momentum vector is requerd to be loaded from drive\n",
        "      for k in delta['head'].keys():\n",
        "\n",
        "        momentum_vector['head'][k] = decay * momentum_vector['head'][k]  + (1- decay) *  delta['head'][k]  # Using the the formula of EMA we calculate the momentum vector\n",
        "      for k in delta['hidden'].keys():\n",
        "        momentum_vector['hidden'][k] = decay * momentum_vector['hidden'][k]  + (1- decay) *  delta['hidden'][k]  # Using the the formula of FebAvgM we calculate the momentum vector\n",
        "\n",
        "\n",
        "\n",
        "\n",
        "\n",
        "\n",
        "    global_head = copy.deepcopy(global_model.head.state_dict())\n",
        "    for k in momentum_vector['head'].keys():\n",
        "      global_head[k] =global_head[k] + momentum_vector['head'][k] #After adding momentum vector the last global model we use clamp function we insure to keep momentum vector in boundary\n",
        "    global_hidden = copy.deepcopy(global_model.hidden.state_dict())\n",
        "    for k in momentum_vector['hidden'].keys():\n",
        "      global_hidden[k] = global_hidden[k] + momentum_vector['hidden'][k]#After adding momentum vector the last global model we use clamp function\n",
        "\n",
        "\n",
        "    global_model.head.load_state_dict(global_head)\n",
        "    global_model.hidden.load_state_dict(global_hidden)\n",
        "\n",
        "\n",
        "  return global_model, momentum_vector # We return momentum_vector to save it and use for next aggregation steps\n",
        "\n",
        "\n"
      ],
      "metadata": {
        "cellView": "form",
        "id": "mQ6G6AHfmUDR"
      },
      "execution_count": 16,
      "outputs": []
    },
    {
      "cell_type": "code",
      "execution_count": 17,
      "metadata": {
        "id": "jTG0_BCipHwT",
        "cellView": "form"
      },
      "outputs": [],
      "source": [
        "# @title This function will evaluate the model.</br> The outputs are loss and accuracy\n",
        "def evaluation(model, data_loader):\n",
        "  criterion = nn.CrossEntropyLoss()\n",
        "  model.eval()\n",
        "  correct = 0\n",
        "  total = 0\n",
        "  test_loss = 0\n",
        "\n",
        "  device = torch.device(\"cuda\" if torch.cuda.is_available() else \"cpu\")\n",
        "\n",
        "  with torch.no_grad():\n",
        "    for images, labels in  data_loader:\n",
        "      images, labels = images.to(device), labels.to(device)\n",
        "      outputs = model(images)\n",
        "\n",
        "      _, prediction = torch.max(outputs.data,1)\n",
        "      loss = criterion(outputs, labels)\n",
        "      test_loss += loss.item() * labels.size(0)\n",
        "\n",
        "      total += labels.size(0)\n",
        "      correct += (prediction == labels).sum().item()\n",
        "    accuracy = 100 * correct / total\n",
        "    loss = test_loss / total\n",
        "    return accuracy, loss\n",
        "\n"
      ]
    },
    {
      "cell_type": "code",
      "source": [
        "# @title <h2>`next_id`</h2> This function generates a unique name for model. `uuid4` does not generate duplicated but we are using a fixed `seed` hence we insure this name does not already exists.\n",
        "\n",
        "from uuid import uuid4\n",
        "import os\n",
        "def next_id(log_path):\n",
        "  if os.path.exists(log_path):\n",
        "    df = pd.read_csv(log_path)\n",
        "    while True:\n",
        "      uuid = str(uuid4())\n",
        "      if uuid not in df[\"model_name\"].values:\n",
        "        return uuid\n",
        "  else:\n",
        "    return str(uuid4())"
      ],
      "metadata": {
        "id": "h0cP5xZYNir5",
        "cellView": "form"
      },
      "execution_count": 18,
      "outputs": []
    },
    {
      "cell_type": "code",
      "source": [
        "#@title _\n",
        "from datetime import datetime\n",
        "\n",
        "def get_current_time():\n",
        "  now = datetime.now()\n",
        "\n",
        "  formatted_date_time = now.strftime(\"%Y-%m-%d %H:%M:%S\") # Format the date and time as a string\n",
        "\n",
        "  return formatted_date_time\n",
        "\n",
        "def global_model_name_path_generator():\n",
        "\n",
        "  model_name = next_id(\"/content/drive/MyDrive/MLDL_FederatedLearning/csv/global_log.csv\")\n",
        "\n",
        "  path = \"/content/drive/MyDrive/MLDL_FederatedLearning/models/global/\" + model_name + \".pth\"\n",
        "\n",
        "  return model_name, path\n",
        "\n"
      ],
      "metadata": {
        "id": "Cxj5c-BT2GzK",
        "cellView": "form"
      },
      "execution_count": 19,
      "outputs": []
    },
    {
      "cell_type": "code",
      "source": [
        "#@title delete model\n",
        "import os\n",
        "import pandas as pd\n",
        "import numpy as np\n",
        "def del_model(model_name):\n",
        "  log_df = pd.read_csv(\"/content/drive/MyDrive/MLDL_FederatedLearning/csv/global_log.csv\")\n",
        "  filter = log_df[\"model_name\"] == model_name\n",
        "  if not filter.any():\n",
        "    print(f\"recored ({model_name}) not found.\")\n",
        "    return\n",
        "  if os.path.exists(log_df[filter][\"path\"].values[0]):\n",
        "    os.remove(log_df[filter][\"path\"].values[0])\n",
        "  else:\n",
        "    print(\"model not found\")\n",
        "\n",
        "\n",
        "  try:\n",
        "    os.remove(log_df[filter][\"momentum_vector_path\"].values[0])\n",
        "  except:\n",
        "    print(\"momentum vector not found\")\n",
        "  log_df = log_df[~filter]\n",
        "  log_df.to_csv(\"/content/drive/MyDrive/MLDL_FederatedLearning/csv/global_log.csv\", index=False)\n",
        "# del_model(\"e3435947-ad6e-4ca2-8408-390021b33a18\")"
      ],
      "metadata": {
        "id": "tyK9f4bQcaO0"
      },
      "execution_count": 20,
      "outputs": []
    },
    {
      "cell_type": "code",
      "source": [
        "#@title use this block to modify the global log file\n",
        "# temp = pd.read_csv(\"/content/drive/MyDrive/MLDL_FederatedLearning/csv/global_log.csv\")\n",
        "# temp[\"aggregation_method\"] =[ np.nan] * len(temp)\n",
        "# temp[\"contributors\"] =[ np.nan] * len(temp)\n",
        "# temp[\"momentum_vector_path\"] = [np.nan] * len(temp)\n",
        "\n",
        "# temp = temp[['backbone',\n",
        "#               'num_of_clients',\n",
        "#               'splitting_method',\n",
        "#               'aggregation_method',\n",
        "#               'Measurement_criteria',\n",
        "#               'accuracy',\n",
        "#               'loss',\n",
        "#               'size_of_dataset',\n",
        "#               'train_test_ratio',\n",
        "#               'classes',\n",
        "#               'round_number',\n",
        "#               'num_of_participants',\n",
        "#               'model_name',\n",
        "#               'prev_global_model_name',\n",
        "#               \"contributors\",\n",
        "#               'path',\n",
        "#               \"momentum_vector_path\",\n",
        "#               'path_to_subsets',\n",
        "#               'path_to_class_combs',\n",
        "#               'time'\n",
        "#                ]]\n",
        "# temp.to_csv(\"/content/drive/MyDrive/MLDL_FederatedLearning/csv/global_log.csv\", index=False)\n",
        "# temp.head()\n",
        "# del temp"
      ],
      "metadata": {
        "id": "rQycAoeYsIST",
        "cellView": "form"
      },
      "execution_count": 21,
      "outputs": []
    },
    {
      "cell_type": "code",
      "source": [
        "#@title <h1>Select aggregation method </h1>\n",
        "#@markdown This value will be auto assigned in case the initial model of filtered clients have been aggregated with a spicific aggregation function in the previous rounds\n",
        "\n",
        "aggregation_method = \"FedQ\"   #@param[\"FebAvg\",\"FebAvgM\", \"EMA\",\"FedQ\" ]\n",
        "\n",
        "prev_agg_method = pd.read_csv(\"/content/drive/MyDrive/MLDL_FederatedLearning/csv/global_log.csv\")\n",
        "\n",
        "filter = prev_agg_method[\"model_name\"] == initial_model_name\n",
        "prev_agg_method = prev_agg_method[filter]\n",
        "\n",
        "prev_agg_method = prev_agg_method[\"aggregation_method\"].values[0]\n",
        "\n",
        "aggregation_method = aggregation_method if not type(prev_agg_method) == type(\"str\") else prev_agg_method\n",
        "\n",
        "\n",
        "print(f\"{aggregation_method} has been selected as the Aggregation function.\")"
      ],
      "metadata": {
        "id": "EZz-567w9qCQ",
        "colab": {
          "base_uri": "https://localhost:8080/"
        },
        "outputId": "740ea6a3-817a-4c09-960d-d859e023408d",
        "cellView": "form"
      },
      "execution_count": 22,
      "outputs": [
        {
          "output_type": "stream",
          "name": "stdout",
          "text": [
            "FedQ has been selected as the Aggregation function.\n"
          ]
        }
      ]
    },
    {
      "cell_type": "code",
      "execution_count": 23,
      "metadata": {
        "colab": {
          "base_uri": "https://localhost:8080/"
        },
        "id": "7ZKHoyBtaN3-",
        "outputId": "1f022641-f196-4c7b-ed4e-4844594e9152",
        "cellView": "form"
      },
      "outputs": [
        {
          "output_type": "stream",
          "name": "stderr",
          "text": [
            "/tmp/ipython-input-16-690545916.py:10: SettingWithCopyWarning: \n",
            "A value is trying to be set on a copy of a slice from a DataFrame.\n",
            "Try using .loc[row_indexer,col_indexer] = value instead\n",
            "\n",
            "See the caveats in the documentation: https://pandas.pydata.org/pandas-docs/stable/user_guide/indexing.html#returning-a-view-versus-a-copy\n",
            "  df[\"sample_size_scaled\"] = minmax(df[\"client_train_size\"])\n",
            "/tmp/ipython-input-16-690545916.py:11: SettingWithCopyWarning: \n",
            "A value is trying to be set on a copy of a slice from a DataFrame.\n",
            "Try using .loc[row_indexer,col_indexer] = value instead\n",
            "\n",
            "See the caveats in the documentation: https://pandas.pydata.org/pandas-docs/stable/user_guide/indexing.html#returning-a-view-versus-a-copy\n",
            "  df[\"acc_scaled\"] = minmax(df[\"accuracy\"])\n",
            "/tmp/ipython-input-16-690545916.py:13: SettingWithCopyWarning: \n",
            "A value is trying to be set on a copy of a slice from a DataFrame.\n",
            "Try using .loc[row_indexer,col_indexer] = value instead\n",
            "\n",
            "See the caveats in the documentation: https://pandas.pydata.org/pandas-docs/stable/user_guide/indexing.html#returning-a-view-versus-a-copy\n",
            "  df[\"avg_criterion\"] = alpha * df[\"acc_scaled\"] + (1 - alpha) * df[\"sample_size_scaled\"]\n",
            "Downloading: \"https://github.com/facebookresearch/dino/zipball/main\" to /root/.cache/torch/hub/main.zip\n",
            "Downloading: \"https://dl.fbaipublicfiles.com/dino/dino_deitsmall16_pretrain/dino_deitsmall16_pretrain.pth\" to /root/.cache/torch/hub/checkpoints/dino_deitsmall16_pretrain.pth\n",
            "100%|██████████| 82.7M/82.7M [00:00<00:00, 253MB/s]\n"
          ]
        },
        {
          "output_type": "stream",
          "name": "stdout",
          "text": [
            "Detected feature dimontion: 384\n",
            "Accurace:11.27\n",
            "Loss:4.16\n"
          ]
        }
      ],
      "source": [
        "#@title Aggregation\n",
        "if aggregation_method == \"FebAvg\":\n",
        "  global_model = feb_avg(filtered_clients_data)\n",
        "elif aggregation_method == \"FebAvgM\":\n",
        "  global_model,momentum_vector = feb_avg_m(filtered_clients_data)\n",
        "elif aggregation_method == \"EMA\":\n",
        "  global_model,momentum_vector = EMA(filtered_clients_data)\n",
        "elif aggregation_method == \"FedQ\":\n",
        "  global_model,momentum_vector = FedQ(filtered_clients_data)\n",
        "else:\n",
        "  print(\"Invalid aggregation method\")\n",
        "\n",
        "\n",
        "model_name, path = global_model_name_path_generator()\n",
        "\n",
        "test_accracy, test_loss= evaluation(global_model, test_loader)\n",
        "print(f\"Accurace:{test_accracy:.2f}\")\n",
        "print(f\"Loss:{test_loss:.2f}\")"
      ]
    },
    {
      "cell_type": "code",
      "source": [
        "#@title Saves new generated global model\n",
        "import os\n",
        "log_path = \"/content/drive/MyDrive/MLDL_FederatedLearning/csv/global_log.csv\"\n",
        "\n",
        "prev_global_model_name = filtered_clients_data[\"initial_model_name\"].values[0]\n",
        "global_model_log = filtered_clients_data.drop([\"client_id\",\"train_loss\",\"client_train_size\",\"client_test_size\",\"duration\",],axis=1)\n",
        "global_model_log = global_model_log.iloc[0]\n",
        "global_model_log[\"num_of_participants\"] = len(filtered_clients_data)\n",
        "global_model_log[\"prev_global_model_name\"] = initial_model_name\n",
        "global_model_log[\"model_name\"]= model_name\n",
        "global_model_log[\"accuracy\"] = test_accracy\n",
        "global_model_log[\"loss\"] = test_loss\n",
        "global_model_log[\"time\"] = get_current_time()\n",
        "global_model_log[\"path\"] = path\n",
        "global_model_log[\"Measurement_criteria\"] = \"accuracy,loss\"\n",
        "global_model_log[\"contributors\"] = contributors\n",
        "global_model_log[\"aggregation_method\"] = aggregation_method\n",
        "\n",
        "if aggregation_method == \"FebAvg\":\n",
        "  global_model_log[\"momentum_vector_path\"] = None\n",
        "\n",
        "elif aggregation_method == \"FebAvgM\" or aggregation_method == \"EMA\" or aggregation_method == \"FedQ\" :\n",
        "  global_model_log[\"momentum_vector_path\"] = \"/content/drive/MyDrive/MLDL_FederatedLearning/models/global/momentun_vectors/MV_\"+ model_name + \".pt\"\n",
        "  torch.save(momentum_vector, global_model_log[\"momentum_vector_path\"])\n",
        "\n",
        "\n",
        "global_model_log = pd.DataFrame(global_model_log).T\n",
        "global_model_log = global_model_log[['backbone',\n",
        "              'num_of_clients',\n",
        "              'splitting_method',\n",
        "              'aggregation_method',\n",
        "              'Measurement_criteria',\n",
        "              'accuracy',\n",
        "              'loss',\n",
        "              'size_of_dataset',\n",
        "              'train_test_ratio',\n",
        "              'classes',\n",
        "              'round_number',\n",
        "              'num_of_participants',\n",
        "              'model_name',\n",
        "              'prev_global_model_name',\n",
        "              \"contributors\",\n",
        "              'path',\n",
        "              \"momentum_vector_path\",\n",
        "              'path_to_subsets',\n",
        "              'path_to_class_combs',\n",
        "              'time'\n",
        "               ]]\n",
        "\n",
        "flag = False\n",
        "if os.path.exists(path):\n",
        "  print(\"Model already exist\")\n",
        "  flag = True\n",
        "\n",
        "if os.path.exists(log_path):\n",
        "  global_log_df = pd.read_csv(log_path)\n",
        "  if model_name in global_log_df[\"model_name\"].values:\n",
        "    print(\"record already exist\")\n",
        "    flag = True\n",
        "  if not flag:\n",
        "    global_model_log.to_csv(log_path, mode='a', header=False, index=False)\n",
        "else:\n",
        "  if not flag:\n",
        "    global_model_log.to_csv(log_path, index=False, header=True)\n",
        "\n",
        "\n",
        "if not flag:\n",
        "  torch.save(global_model.state_dict(),  path )\n",
        "  if aggregation_method == \"FebAvgM\" or aggregation_method == \"EMA\":\n",
        "    torch.save(momentum_vector, global_model_log[\"momentum_vector_path\"].values[0])\n"
      ],
      "metadata": {
        "id": "MSUmG3St1bgP"
      },
      "execution_count": 26,
      "outputs": []
    },
    {
      "cell_type": "markdown",
      "source": [
        "# OUTCOME"
      ],
      "metadata": {
        "id": "zsmJL2o_tJhx"
      }
    },
    {
      "cell_type": "code",
      "source": [
        "global_model_log.head()"
      ],
      "metadata": {
        "id": "2m5N00jlJbL6",
        "colab": {
          "base_uri": "https://localhost:8080/",
          "height": 170
        },
        "outputId": "8dbdde91-1243-4906-bcc7-778b0410dac3"
      },
      "execution_count": 27,
      "outputs": [
        {
          "output_type": "execute_result",
          "data": {
            "text/plain": [
              "        backbone num_of_clients    splitting_method aggregation_method  \\\n",
              "600  dino_vits16             80  non-i.i.d. sharing               FedQ   \n",
              "\n",
              "    Measurement_criteria accuracy     loss size_of_dataset  \\\n",
              "600        accuracy,loss    11.27  4.15616           50000   \n",
              "\n",
              "                train_test_ratio classes round_number num_of_participants  \\\n",
              "600  {'train': 0.8, 'test': 0.2}     all            1                  12   \n",
              "\n",
              "                               model_name  \\\n",
              "600  7b262d43-e7d7-4a3e-9086-75c0bb22eeea   \n",
              "\n",
              "                   prev_global_model_name  \\\n",
              "600  fa4e78ad-aca5-491e-8d8c-9e366f73a708   \n",
              "\n",
              "                                          contributors  \\\n",
              "600  [27de6708-9c4b-4437-9686-ddf6c142dcd9, 9aa489d...   \n",
              "\n",
              "                                                  path  \\\n",
              "600  /content/drive/MyDrive/MLDL_FederatedLearning/...   \n",
              "\n",
              "                                  momentum_vector_path  \\\n",
              "600  /content/drive/MyDrive/MLDL_FederatedLearning/...   \n",
              "\n",
              "                                       path_to_subsets  \\\n",
              "600  /content/drive/MyDrive/MLDL_FederatedLearning/...   \n",
              "\n",
              "                                   path_to_class_combs                 time  \n",
              "600  /content/drive/MyDrive/MLDL_FederatedLearning/...  2025-07-06 23:24:58  "
            ],
            "text/html": [
              "\n",
              "  <div id=\"df-8f9bca28-03d4-4cca-acaf-68490851f1fd\" class=\"colab-df-container\">\n",
              "    <div>\n",
              "<style scoped>\n",
              "    .dataframe tbody tr th:only-of-type {\n",
              "        vertical-align: middle;\n",
              "    }\n",
              "\n",
              "    .dataframe tbody tr th {\n",
              "        vertical-align: top;\n",
              "    }\n",
              "\n",
              "    .dataframe thead th {\n",
              "        text-align: right;\n",
              "    }\n",
              "</style>\n",
              "<table border=\"1\" class=\"dataframe\">\n",
              "  <thead>\n",
              "    <tr style=\"text-align: right;\">\n",
              "      <th></th>\n",
              "      <th>backbone</th>\n",
              "      <th>num_of_clients</th>\n",
              "      <th>splitting_method</th>\n",
              "      <th>aggregation_method</th>\n",
              "      <th>Measurement_criteria</th>\n",
              "      <th>accuracy</th>\n",
              "      <th>loss</th>\n",
              "      <th>size_of_dataset</th>\n",
              "      <th>train_test_ratio</th>\n",
              "      <th>classes</th>\n",
              "      <th>round_number</th>\n",
              "      <th>num_of_participants</th>\n",
              "      <th>model_name</th>\n",
              "      <th>prev_global_model_name</th>\n",
              "      <th>contributors</th>\n",
              "      <th>path</th>\n",
              "      <th>momentum_vector_path</th>\n",
              "      <th>path_to_subsets</th>\n",
              "      <th>path_to_class_combs</th>\n",
              "      <th>time</th>\n",
              "    </tr>\n",
              "  </thead>\n",
              "  <tbody>\n",
              "    <tr>\n",
              "      <th>600</th>\n",
              "      <td>dino_vits16</td>\n",
              "      <td>80</td>\n",
              "      <td>non-i.i.d. sharing</td>\n",
              "      <td>FedQ</td>\n",
              "      <td>accuracy,loss</td>\n",
              "      <td>11.27</td>\n",
              "      <td>4.15616</td>\n",
              "      <td>50000</td>\n",
              "      <td>{'train': 0.8, 'test': 0.2}</td>\n",
              "      <td>all</td>\n",
              "      <td>1</td>\n",
              "      <td>12</td>\n",
              "      <td>7b262d43-e7d7-4a3e-9086-75c0bb22eeea</td>\n",
              "      <td>fa4e78ad-aca5-491e-8d8c-9e366f73a708</td>\n",
              "      <td>[27de6708-9c4b-4437-9686-ddf6c142dcd9, 9aa489d...</td>\n",
              "      <td>/content/drive/MyDrive/MLDL_FederatedLearning/...</td>\n",
              "      <td>/content/drive/MyDrive/MLDL_FederatedLearning/...</td>\n",
              "      <td>/content/drive/MyDrive/MLDL_FederatedLearning/...</td>\n",
              "      <td>/content/drive/MyDrive/MLDL_FederatedLearning/...</td>\n",
              "      <td>2025-07-06 23:24:58</td>\n",
              "    </tr>\n",
              "  </tbody>\n",
              "</table>\n",
              "</div>\n",
              "    <div class=\"colab-df-buttons\">\n",
              "\n",
              "  <div class=\"colab-df-container\">\n",
              "    <button class=\"colab-df-convert\" onclick=\"convertToInteractive('df-8f9bca28-03d4-4cca-acaf-68490851f1fd')\"\n",
              "            title=\"Convert this dataframe to an interactive table.\"\n",
              "            style=\"display:none;\">\n",
              "\n",
              "  <svg xmlns=\"http://www.w3.org/2000/svg\" height=\"24px\" viewBox=\"0 -960 960 960\">\n",
              "    <path d=\"M120-120v-720h720v720H120Zm60-500h600v-160H180v160Zm220 220h160v-160H400v160Zm0 220h160v-160H400v160ZM180-400h160v-160H180v160Zm440 0h160v-160H620v160ZM180-180h160v-160H180v160Zm440 0h160v-160H620v160Z\"/>\n",
              "  </svg>\n",
              "    </button>\n",
              "\n",
              "  <style>\n",
              "    .colab-df-container {\n",
              "      display:flex;\n",
              "      gap: 12px;\n",
              "    }\n",
              "\n",
              "    .colab-df-convert {\n",
              "      background-color: #E8F0FE;\n",
              "      border: none;\n",
              "      border-radius: 50%;\n",
              "      cursor: pointer;\n",
              "      display: none;\n",
              "      fill: #1967D2;\n",
              "      height: 32px;\n",
              "      padding: 0 0 0 0;\n",
              "      width: 32px;\n",
              "    }\n",
              "\n",
              "    .colab-df-convert:hover {\n",
              "      background-color: #E2EBFA;\n",
              "      box-shadow: 0px 1px 2px rgba(60, 64, 67, 0.3), 0px 1px 3px 1px rgba(60, 64, 67, 0.15);\n",
              "      fill: #174EA6;\n",
              "    }\n",
              "\n",
              "    .colab-df-buttons div {\n",
              "      margin-bottom: 4px;\n",
              "    }\n",
              "\n",
              "    [theme=dark] .colab-df-convert {\n",
              "      background-color: #3B4455;\n",
              "      fill: #D2E3FC;\n",
              "    }\n",
              "\n",
              "    [theme=dark] .colab-df-convert:hover {\n",
              "      background-color: #434B5C;\n",
              "      box-shadow: 0px 1px 3px 1px rgba(0, 0, 0, 0.15);\n",
              "      filter: drop-shadow(0px 1px 2px rgba(0, 0, 0, 0.3));\n",
              "      fill: #FFFFFF;\n",
              "    }\n",
              "  </style>\n",
              "\n",
              "    <script>\n",
              "      const buttonEl =\n",
              "        document.querySelector('#df-8f9bca28-03d4-4cca-acaf-68490851f1fd button.colab-df-convert');\n",
              "      buttonEl.style.display =\n",
              "        google.colab.kernel.accessAllowed ? 'block' : 'none';\n",
              "\n",
              "      async function convertToInteractive(key) {\n",
              "        const element = document.querySelector('#df-8f9bca28-03d4-4cca-acaf-68490851f1fd');\n",
              "        const dataTable =\n",
              "          await google.colab.kernel.invokeFunction('convertToInteractive',\n",
              "                                                    [key], {});\n",
              "        if (!dataTable) return;\n",
              "\n",
              "        const docLinkHtml = 'Like what you see? Visit the ' +\n",
              "          '<a target=\"_blank\" href=https://colab.research.google.com/notebooks/data_table.ipynb>data table notebook</a>'\n",
              "          + ' to learn more about interactive tables.';\n",
              "        element.innerHTML = '';\n",
              "        dataTable['output_type'] = 'display_data';\n",
              "        await google.colab.output.renderOutput(dataTable, element);\n",
              "        const docLink = document.createElement('div');\n",
              "        docLink.innerHTML = docLinkHtml;\n",
              "        element.appendChild(docLink);\n",
              "      }\n",
              "    </script>\n",
              "  </div>\n",
              "\n",
              "\n",
              "    </div>\n",
              "  </div>\n"
            ],
            "application/vnd.google.colaboratory.intrinsic+json": {
              "type": "dataframe",
              "variable_name": "global_model_log",
              "repr_error": "0"
            }
          },
          "metadata": {},
          "execution_count": 27
        }
      ]
    },
    {
      "cell_type": "code",
      "source": [
        "import matplotlib.pyplot as plt\n",
        "\n",
        "\n",
        "pre_df = pd.read_csv(\"/content/drive/MyDrive/MLDL_FederatedLearning/csv/global_log.csv\")\n",
        "\n",
        "\n",
        "\n",
        "def my_plot(pre_df,column_name):\n",
        "  plt.figure(figsize=(10, 3))\n",
        "  plt.plot( pre_df[\"round_number\"],pre_df[column_name], \".-\" )\n",
        "\n",
        "  plt.grid(True)\n",
        "  plt.xlabel(\"round number\")\n",
        "  plt.ylabel(column_name)\n",
        "\n",
        "  plt.show()\n",
        "my_plot(pre_df,\"loss\")\n",
        "my_plot(pre_df,\"accuracy\")\n",
        "\n",
        "\n",
        "client_n_lst= list(clients_data[\"client_id\"].values)\n",
        "client_n_lst.sort()\n",
        "client_n_set  = list(set(client_n_lst))\n",
        "count_lst = []\n",
        "for i in range(len(client_n_set)):\n",
        "  count_lst.append(client_n_lst.count(client_n_set[i]))\n",
        "  client_n_set[i] = str(client_n_set[i])\n",
        "plt.figure(figsize=(30, 3))\n",
        "plt.bar(client_n_set,count_lst,color='skyblue')"
      ],
      "metadata": {
        "colab": {
          "base_uri": "https://localhost:8080/",
          "height": 767
        },
        "id": "jDZG9_F7o1Gx",
        "outputId": "f7269df9-a6c9-4e0d-ffed-22fa0c91be7a"
      },
      "execution_count": 28,
      "outputs": [
        {
          "output_type": "display_data",
          "data": {
            "text/plain": [
              "<Figure size 1000x300 with 1 Axes>"
            ],
            "image/png": "[encoded data removed]"
          },
          "metadata": {}
        },
        {
          "output_type": "display_data",
          "data": {
            "text/plain": [
              "<Figure size 1000x300 with 1 Axes>"
            ],
            "image/png": "[encoded data removed]"
          },
          "metadata": {}
        },
        {
          "output_type": "execute_result",
          "data": {
            "text/plain": [
              "<BarContainer object of 80 artists>"
            ]
          },
          "metadata": {},
          "execution_count": 28
        },
        {
          "output_type": "display_data",
          "data": {
            "text/plain": [
              "<Figure size 3000x300 with 1 Axes>"
            ],
            "image/png": "[encoded data removed]"
          },
          "metadata": {}
        }
      ]
    }
  ],
  "metadata": {
    "accelerator": "GPU",
    "colab": {
      "gpuType": "T4",
      "provenance": [],
      "include_colab_link": true
    },
    "kernelspec": {
      "display_name": "Python 3",
      "name": "python3"
    },
    "language_info": {
      "name": "python"
    }
  },
  "nbformat": 4,
  "nbformat_minor": 0
}